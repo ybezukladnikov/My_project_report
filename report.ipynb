{
 "cells": [
  {
   "cell_type": "code",
   "execution_count": 1,
   "id": "104a775e",
   "metadata": {},
   "outputs": [],
   "source": [
    "import pandas as pd\n",
    "import glob\n",
    "from datetime import datetime, timedelta\n",
    "\n",
    "from openpyxl.reader.excel import load_workbook\n",
    "from openpyxl.styles import Font\n",
    "from openpyxl.styles.fills import PatternFill\n",
    "from openpyxl.styles import Border, Side"
   ]
  },
  {
   "cell_type": "code",
   "execution_count": 2,
   "id": "39c0e270",
   "metadata": {
    "scrolled": true
   },
   "outputs": [],
   "source": [
    "files = [item for item in glob.glob(r'/Users/iaroslavbezukladnikov/Desktop/excel_file/*{}'.format('.xlsx'))]\n"
   ]
  },
  {
   "cell_type": "code",
   "execution_count": 3,
   "id": "3a7c6164",
   "metadata": {
    "scrolled": true
   },
   "outputs": [
    {
     "name": "stderr",
     "output_type": "stream",
     "text": [
      "/Users/iaroslavbezukladnikov/opt/anaconda3/lib/python3.9/site-packages/openpyxl/styles/stylesheet.py:226: UserWarning: Workbook contains no default style, apply openpyxl's default\n",
      "  warn(\"Workbook contains no default style, apply openpyxl's default\")\n",
      "/Users/iaroslavbezukladnikov/opt/anaconda3/lib/python3.9/site-packages/openpyxl/styles/stylesheet.py:226: UserWarning: Workbook contains no default style, apply openpyxl's default\n",
      "  warn(\"Workbook contains no default style, apply openpyxl's default\")\n",
      "/Users/iaroslavbezukladnikov/opt/anaconda3/lib/python3.9/site-packages/openpyxl/styles/stylesheet.py:226: UserWarning: Workbook contains no default style, apply openpyxl's default\n",
      "  warn(\"Workbook contains no default style, apply openpyxl's default\")\n",
      "/Users/iaroslavbezukladnikov/opt/anaconda3/lib/python3.9/site-packages/openpyxl/styles/stylesheet.py:226: UserWarning: Workbook contains no default style, apply openpyxl's default\n",
      "  warn(\"Workbook contains no default style, apply openpyxl's default\")\n",
      "/Users/iaroslavbezukladnikov/opt/anaconda3/lib/python3.9/site-packages/openpyxl/styles/stylesheet.py:226: UserWarning: Workbook contains no default style, apply openpyxl's default\n",
      "  warn(\"Workbook contains no default style, apply openpyxl's default\")\n",
      "/Users/iaroslavbezukladnikov/opt/anaconda3/lib/python3.9/site-packages/openpyxl/styles/stylesheet.py:226: UserWarning: Workbook contains no default style, apply openpyxl's default\n",
      "  warn(\"Workbook contains no default style, apply openpyxl's default\")\n",
      "/Users/iaroslavbezukladnikov/opt/anaconda3/lib/python3.9/site-packages/openpyxl/styles/stylesheet.py:226: UserWarning: Workbook contains no default style, apply openpyxl's default\n",
      "  warn(\"Workbook contains no default style, apply openpyxl's default\")\n",
      "/Users/iaroslavbezukladnikov/opt/anaconda3/lib/python3.9/site-packages/openpyxl/styles/stylesheet.py:226: UserWarning: Workbook contains no default style, apply openpyxl's default\n",
      "  warn(\"Workbook contains no default style, apply openpyxl's default\")\n",
      "/Users/iaroslavbezukladnikov/opt/anaconda3/lib/python3.9/site-packages/openpyxl/styles/stylesheet.py:226: UserWarning: Workbook contains no default style, apply openpyxl's default\n",
      "  warn(\"Workbook contains no default style, apply openpyxl's default\")\n",
      "/Users/iaroslavbezukladnikov/opt/anaconda3/lib/python3.9/site-packages/openpyxl/styles/stylesheet.py:226: UserWarning: Workbook contains no default style, apply openpyxl's default\n",
      "  warn(\"Workbook contains no default style, apply openpyxl's default\")\n",
      "/Users/iaroslavbezukladnikov/opt/anaconda3/lib/python3.9/site-packages/openpyxl/styles/stylesheet.py:226: UserWarning: Workbook contains no default style, apply openpyxl's default\n",
      "  warn(\"Workbook contains no default style, apply openpyxl's default\")\n",
      "/Users/iaroslavbezukladnikov/opt/anaconda3/lib/python3.9/site-packages/openpyxl/styles/stylesheet.py:226: UserWarning: Workbook contains no default style, apply openpyxl's default\n",
      "  warn(\"Workbook contains no default style, apply openpyxl's default\")\n",
      "/Users/iaroslavbezukladnikov/opt/anaconda3/lib/python3.9/site-packages/openpyxl/styles/stylesheet.py:226: UserWarning: Workbook contains no default style, apply openpyxl's default\n",
      "  warn(\"Workbook contains no default style, apply openpyxl's default\")\n",
      "/Users/iaroslavbezukladnikov/opt/anaconda3/lib/python3.9/site-packages/openpyxl/styles/stylesheet.py:226: UserWarning: Workbook contains no default style, apply openpyxl's default\n",
      "  warn(\"Workbook contains no default style, apply openpyxl's default\")\n",
      "/Users/iaroslavbezukladnikov/opt/anaconda3/lib/python3.9/site-packages/openpyxl/styles/stylesheet.py:226: UserWarning: Workbook contains no default style, apply openpyxl's default\n",
      "  warn(\"Workbook contains no default style, apply openpyxl's default\")\n"
     ]
    }
   ],
   "source": [
    "combined = pd.DataFrame()\n",
    "for file in files:\n",
    "    file = pd.read_excel(file, \n",
    "                         skiprows = 5, usecols=['ОМСУ','Наименование УК','Номер Добродела','№ ЕДС','Дата обращения', \n",
    "                                                'Адрес заявки','Срок исполнения', 'Текущий статус заявки',\n",
    "                                                'Текущий статус заявки',\n",
    "                                                'Текст заявки', 'Ответ УК предоставлен?'])\n",
    "    file = file [['ОМСУ', 'Наименование УК','Номер Добродела','№ ЕДС','Дата обращения', \n",
    "                                                'Адрес заявки','Срок исполнения', 'Срок исполнения', 'Текущий статус заявки',\n",
    "                                                  'Текущий статус заявки', \n",
    "                                                'Текст заявки', 'Ответ УК предоставлен?']]\n",
    "    \n",
    "    file.columns = ['ОМСУ', 'Наименование УК','Номер Добродела','№ ЕДС','Дата обращения', \n",
    "                                                'Адрес заявки','Срок исполнения', 'temp_date', 'Текущий статус заявки',\n",
    "                                                  'k', \n",
    "                                                'Текст заявки', 'Ответ УК предоставлен?']\n",
    "    combined = pd.concat([combined, file])\n",
    "  "
   ]
  },
  {
   "cell_type": "code",
   "execution_count": 4,
   "id": "0ee71fc9",
   "metadata": {},
   "outputs": [],
   "source": [
    "status_in_table=[]\n",
    "status_need = ['В работе', 'Контроль ГЖИ: Просрочено', 'Новая заявка', 'Срок превышен', \n",
    "               'Требуется доработка', 'Требуется доработка (c просрочкой)','Контроль ГЖИ: Устранение']\n",
    "for i in combined['Текущий статус заявки']:\n",
    "    if i not in status_need and i not in status_in_table: \n",
    "        status_in_table.append(i)"
   ]
  },
  {
   "cell_type": "markdown",
   "id": "702fadde",
   "metadata": {},
   "source": [
    "**Работаем со столбцом индекса. Вместо порядкого номера по умолчанию меняем его на столбец Текущий статус заявки. "
   ]
  },
  {
   "cell_type": "code",
   "execution_count": 5,
   "id": "89273d93",
   "metadata": {},
   "outputs": [],
   "source": [
    "combined = combined.set_index('k')\n",
    "\n"
   ]
  },
  {
   "cell_type": "code",
   "execution_count": 6,
   "id": "f52d8470",
   "metadata": {
    "scrolled": true
   },
   "outputs": [],
   "source": [
    "combined.drop(status_in_table, axis=0,inplace = True)\n"
   ]
  },
  {
   "cell_type": "markdown",
   "id": "d60ee63d",
   "metadata": {},
   "source": [
    "# Начнем работу по сортировки таблице по дате. "
   ]
  },
  {
   "cell_type": "code",
   "execution_count": 7,
   "id": "c85e382f",
   "metadata": {
    "scrolled": true
   },
   "outputs": [],
   "source": [
    "combined['temp_date'] = pd.to_datetime(combined['temp_date'],  format='%d.%m.%Y %H:%M') # Преобразовали тип данных даты к нужному формату"
   ]
  },
  {
   "cell_type": "code",
   "execution_count": 8,
   "id": "a08b07f2",
   "metadata": {},
   "outputs": [],
   "source": [
    "combined = combined.set_index('temp_date')"
   ]
  },
  {
   "cell_type": "code",
   "execution_count": 9,
   "id": "ab5878dd",
   "metadata": {},
   "outputs": [],
   "source": [
    "combined = combined.sort_index(ascending=True) #сотировка по столбцу индекса по возрастанию. \n"
   ]
  },
  {
   "cell_type": "markdown",
   "id": "a428d17f",
   "metadata": {},
   "source": [
    "# Устанавливаю текущую дату, прибавляю к ней 1 день и преобразую в строку только дату. "
   ]
  },
  {
   "cell_type": "code",
   "execution_count": 10,
   "id": "bc079de8",
   "metadata": {},
   "outputs": [],
   "source": [
    "if datetime.weekday(datetime.now()) == 4:\n",
    "    current_date = (datetime.now() + timedelta(days=2)).strftime(\"%Y-%m-%d\")\n",
    "else:\n",
    "    current_date = (datetime.now() + timedelta(days=1)).strftime(\"%Y-%m-%d\")"
   ]
  },
  {
   "cell_type": "code",
   "execution_count": 11,
   "id": "672d32f2",
   "metadata": {},
   "outputs": [],
   "source": [
    "combined = combined.loc[:current_date] # Делаю срез по столбцу индекса до текущей дату плюс один день "
   ]
  },
  {
   "cell_type": "markdown",
   "id": "f67a78c4",
   "metadata": {},
   "source": [
    "# Закрасим ячейки. "
   ]
  },
  {
   "cell_type": "markdown",
   "id": "700e587a",
   "metadata": {},
   "source": [
    " **Делаем экспорт файла со сбросом столбца индекса. index= False.\n"
   ]
  },
  {
   "cell_type": "code",
   "execution_count": 12,
   "id": "908f083f",
   "metadata": {
    "scrolled": true
   },
   "outputs": [],
   "source": [
    "combined.to_excel(r'/Users/iaroslavbezukladnikov/Desktop/excel_file/res1.xlsx', index= False)"
   ]
  },
  {
   "cell_type": "markdown",
   "id": "519f6789",
   "metadata": {},
   "source": [
    "# Форматируем итоговый отчет. "
   ]
  },
  {
   "cell_type": "code",
   "execution_count": 13,
   "id": "d5310377",
   "metadata": {},
   "outputs": [],
   "source": [
    "book = load_workbook('/Users/iaroslavbezukladnikov/Desktop/excel_file/res1.xlsx')\n",
    "ws = book.worksheets[0]\n",
    "ws.column_dimensions[\"A\"].width = 20\n",
    "ws.column_dimensions[\"B\"].width = 30\n",
    "ws.column_dimensions[\"C\"].width = 8\n",
    "ws.column_dimensions[\"D\"].width = 23\n",
    "ws.column_dimensions[\"E\"].width = 16\n",
    "ws.column_dimensions[\"F\"].width = 25\n",
    "ws.column_dimensions[\"G\"].width = 16\n",
    "ws.column_dimensions[\"H\"].width = 22\n",
    "ws.column_dimensions[\"I\"].width = 40\n",
    "ws.column_dimensions[\"J\"].width = 40\n",
    "\n",
    "\n",
    "\n",
    "# Задаем стиль для ячейки\n",
    "count = 2\n",
    "\n",
    "while True:\n",
    "    \n",
    "    _cell = ws['G' + str(count)]\n",
    "    now_date = datetime.now().date()\n",
    "    try:\n",
    "        date_time_obj = datetime.strptime(_cell.value, '%d.%m.%Y %H:%M')\n",
    "        \n",
    "    except TypeError:\n",
    "        break\n",
    "        \n",
    "    if date_time_obj.date() < now_date:\n",
    "        _cell.fill = PatternFill(\"solid\", fgColor=\"00FF0000\")\n",
    "        \n",
    "    elif date_time_obj.date() == now_date:\n",
    "        _cell.fill = PatternFill(\"solid\", fgColor=\"00FFCC99\")\n",
    "        \n",
    "    else:\n",
    "        _cell.fill = PatternFill(\"solid\", fgColor=\"00FFFF00\")\n",
    "        \n",
    "    count += 1\n",
    "\n",
    "book.save('/Users/iaroslavbezukladnikov/Desktop/excel_file/res1.xlsx')"
   ]
  },
  {
   "cell_type": "code",
   "execution_count": null,
   "id": "3d3a3de9",
   "metadata": {},
   "outputs": [],
   "source": []
  }
 ],
 "metadata": {
  "kernelspec": {
   "display_name": "Python 3 (ipykernel)",
   "language": "python",
   "name": "python3"
  },
  "language_info": {
   "codemirror_mode": {
    "name": "ipython",
    "version": 3
   },
   "file_extension": ".py",
   "mimetype": "text/x-python",
   "name": "python",
   "nbconvert_exporter": "python",
   "pygments_lexer": "ipython3",
   "version": "3.9.13"
  }
 },
 "nbformat": 4,
 "nbformat_minor": 5
}
